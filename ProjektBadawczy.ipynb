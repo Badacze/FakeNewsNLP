{
  "nbformat": 4,
  "nbformat_minor": 0,
  "metadata": {
    "colab": {
      "provenance": []
    },
    "kernelspec": {
      "name": "python3",
      "display_name": "Python 3"
    },
    "language_info": {
      "name": "python"
    }
  },
  "cells": [
    {
      "cell_type": "markdown",
      "source": [
        "ClearML Template"
      ],
      "metadata": {
        "id": "kNcMXXx5wody"
      }
    },
    {
      "cell_type": "code",
      "execution_count": 45,
      "metadata": {
        "id": "TwaNcekrdhip",
        "colab": {
          "base_uri": "https://localhost:8080/"
        },
        "outputId": "25389973-11b6-4679-faf2-350dbd05c337"
      },
      "outputs": [
        {
          "output_type": "stream",
          "name": "stdout",
          "text": [
            "Requirement already satisfied: clearml in /usr/local/lib/python3.11/dist-packages (2.0.0)\n",
            "Requirement already satisfied: attrs>=18.0 in /usr/local/lib/python3.11/dist-packages (from clearml) (25.3.0)\n",
            "Requirement already satisfied: furl>=2.0.0 in /usr/local/lib/python3.11/dist-packages (from clearml) (2.1.4)\n",
            "Requirement already satisfied: jsonschema>=2.6.0 in /usr/local/lib/python3.11/dist-packages (from clearml) (4.24.0)\n",
            "Requirement already satisfied: numpy>=1.10 in /usr/local/lib/python3.11/dist-packages (from clearml) (2.0.2)\n",
            "Requirement already satisfied: pathlib2>=2.3.0 in /usr/local/lib/python3.11/dist-packages (from clearml) (2.3.7.post1)\n",
            "Requirement already satisfied: psutil>=3.4.2 in /usr/local/lib/python3.11/dist-packages (from clearml) (5.9.5)\n",
            "Requirement already satisfied: pyparsing>=2.0.3 in /usr/local/lib/python3.11/dist-packages (from clearml) (3.2.3)\n",
            "Requirement already satisfied: python-dateutil>=2.6.1 in /usr/local/lib/python3.11/dist-packages (from clearml) (2.9.0.post0)\n",
            "Requirement already satisfied: pyjwt<2.11.0,>=2.4.0 in /usr/local/lib/python3.11/dist-packages (from clearml) (2.10.1)\n",
            "Requirement already satisfied: PyYAML>=3.12 in /usr/local/lib/python3.11/dist-packages (from clearml) (6.0.2)\n",
            "Requirement already satisfied: six>=1.16.0 in /usr/local/lib/python3.11/dist-packages (from clearml) (1.17.0)\n",
            "Requirement already satisfied: urllib3>=1.21.1 in /usr/local/lib/python3.11/dist-packages (from clearml) (2.4.0)\n",
            "Requirement already satisfied: Pillow>=10.3.0 in /usr/local/lib/python3.11/dist-packages (from clearml) (11.2.1)\n",
            "Requirement already satisfied: referencing<0.40 in /usr/local/lib/python3.11/dist-packages (from clearml) (0.36.2)\n",
            "Requirement already satisfied: requests>=2.32.0 in /usr/local/lib/python3.11/dist-packages (from clearml) (2.32.3)\n",
            "Requirement already satisfied: orderedmultidict>=1.0.1 in /usr/local/lib/python3.11/dist-packages (from furl>=2.0.0->clearml) (1.0.1)\n",
            "Requirement already satisfied: jsonschema-specifications>=2023.03.6 in /usr/local/lib/python3.11/dist-packages (from jsonschema>=2.6.0->clearml) (2025.4.1)\n",
            "Requirement already satisfied: rpds-py>=0.7.1 in /usr/local/lib/python3.11/dist-packages (from jsonschema>=2.6.0->clearml) (0.25.1)\n",
            "Requirement already satisfied: typing-extensions>=4.4.0 in /usr/local/lib/python3.11/dist-packages (from referencing<0.40->clearml) (4.14.0)\n",
            "Requirement already satisfied: charset-normalizer<4,>=2 in /usr/local/lib/python3.11/dist-packages (from requests>=2.32.0->clearml) (3.4.2)\n",
            "Requirement already satisfied: idna<4,>=2.5 in /usr/local/lib/python3.11/dist-packages (from requests>=2.32.0->clearml) (3.10)\n",
            "Requirement already satisfied: certifi>=2017.4.17 in /usr/local/lib/python3.11/dist-packages (from requests>=2.32.0->clearml) (2025.4.26)\n"
          ]
        }
      ],
      "source": [
        "!pip install clearml\n",
        "\n",
        "from clearml import Task, Dataset\n",
        "\n",
        "import pandas as pd\n",
        "import os\n",
        "import time\n",
        "\n",
        "\n",
        "os.environ[\"CLEARML_API_ACCESS_KEY\"] = \"BF3OQG84RHSYHO86OIYII6Y7VVVMDV\"\n",
        "os.environ[\"CLEARML_API_SECRET_KEY\"] = \"7qQDrf96hXOsbmEio_kUbkEjUqqKaMyq4HB4K1fzOWHjKPelw2HEJdB3RrUvh4FZlA8\"\n",
        "os.environ[\"CLEARML_API_HOST\"] = \"https://api.clear.ml\"\n",
        "os.environ[\"CLEARML_WEB_HOST\"] = \"https://app.clear.ml\"\n",
        "os.environ[\"CLEARML_FILES_HOST\"] = \"https://files.clear.ml\""
      ]
    },
    {
      "cell_type": "code",
      "source": [
        "testDataPath = Dataset.get(dataset_id=\"a5958fdaf8cd449bbadc2bf57e5e797b\").get_local_copy()\n",
        "print(testDataPath)"
      ],
      "metadata": {
        "id": "HdDwC0Eg3nHV",
        "colab": {
          "base_uri": "https://localhost:8080/"
        },
        "outputId": "32e0a189-59ab-460f-c37b-465163ed4df7"
      },
      "execution_count": 46,
      "outputs": [
        {
          "output_type": "stream",
          "name": "stdout",
          "text": [
            "/root/.clearml/cache/storage_manager/datasets/ds_a5958fdaf8cd449bbadc2bf57e5e797b\n"
          ]
        }
      ]
    },
    {
      "cell_type": "code",
      "source": [
        "test_val_train_folder=os.listdir(testDataPath)\n",
        "\n",
        "print(testDataPath+\"/\"+test_val_train_folder[0])\n",
        "print(testDataPath+\"/\"+test_val_train_folder[1])\n",
        "print(testDataPath+\"/\"+test_val_train_folder[2])"
      ],
      "metadata": {
        "id": "JcbF0rCjD5ZU",
        "colab": {
          "base_uri": "https://localhost:8080/"
        },
        "outputId": "5decf2d9-00b2-4acc-efe5-6c8182b197c3"
      },
      "execution_count": 47,
      "outputs": [
        {
          "output_type": "stream",
          "name": "stdout",
          "text": [
            "/root/.clearml/cache/storage_manager/datasets/ds_a5958fdaf8cd449bbadc2bf57e5e797b/test_filtered.tsv\n",
            "/root/.clearml/cache/storage_manager/datasets/ds_a5958fdaf8cd449bbadc2bf57e5e797b/valid_filtered.tsv\n",
            "/root/.clearml/cache/storage_manager/datasets/ds_a5958fdaf8cd449bbadc2bf57e5e797b/train_filtered.tsv\n"
          ]
        }
      ]
    },
    {
      "cell_type": "code",
      "source": [
        "# wczytujemy do DataFrame\n",
        "columns = [\n",
        "    \"id\", \"label\", \"statement\", \"subjects\", \"speaker\", \"speaker_job\", \"state_info\",\n",
        "    \"party_affiliation\", \"barely_true\", \"false\", \"half_true\",\n",
        "    \"mostly_true\", \"pants_on_fire\", \"context\"\n",
        "]\n",
        "\n",
        "testDF = pd.read_csv(testDataPath+\"/\"+test_val_train_folder[0], sep='\\t', names=columns, header=None)\n",
        "valDF = pd.read_csv(testDataPath+\"/\"+test_val_train_folder[1], sep='\\t', names=columns, header=None)\n",
        "trainDF = pd.read_csv(testDataPath+\"/\"+test_val_train_folder[2], sep='\\t',names=columns, header=None )\n",
        "\n",
        "df_train = trainDF\n",
        "df_valid = valDF\n",
        "df_test = testDF"
      ],
      "metadata": {
        "id": "wy72t1grm0RJ"
      },
      "execution_count": 48,
      "outputs": []
    },
    {
      "cell_type": "code",
      "source": [
        "testDF.head(1)"
      ],
      "metadata": {
        "colab": {
          "base_uri": "https://localhost:8080/",
          "height": 205
        },
        "id": "QF6PBvTMnC-B",
        "outputId": "9ca3d207-ddee-4b91-8218-17c0bf6a88c4"
      },
      "execution_count": 49,
      "outputs": [
        {
          "output_type": "execute_result",
          "data": {
            "text/plain": [
              "           id  label  \\\n",
              "0  11972.json   True   \n",
              "\n",
              "                                                              statement  \\\n",
              "0  Building a wall on the U.S.-Mexico border will take literally years.   \n",
              "\n",
              "      subjects     speaker speaker_job state_info party_affiliation  \\\n",
              "0  immigration  rick-perry    Governor      Texas        republican   \n",
              "\n",
              "   barely_true  false  half_true  mostly_true  pants_on_fire          context  \n",
              "0           30     30         42           23             18  Radio interview  "
            ],
            "text/html": [
              "\n",
              "  <div id=\"df-c4b78540-3a51-42b3-bb6c-d7c5542282b4\" class=\"colab-df-container\">\n",
              "    <div>\n",
              "<style scoped>\n",
              "    .dataframe tbody tr th:only-of-type {\n",
              "        vertical-align: middle;\n",
              "    }\n",
              "\n",
              "    .dataframe tbody tr th {\n",
              "        vertical-align: top;\n",
              "    }\n",
              "\n",
              "    .dataframe thead th {\n",
              "        text-align: right;\n",
              "    }\n",
              "</style>\n",
              "<table border=\"1\" class=\"dataframe\">\n",
              "  <thead>\n",
              "    <tr style=\"text-align: right;\">\n",
              "      <th></th>\n",
              "      <th>id</th>\n",
              "      <th>label</th>\n",
              "      <th>statement</th>\n",
              "      <th>subjects</th>\n",
              "      <th>speaker</th>\n",
              "      <th>speaker_job</th>\n",
              "      <th>state_info</th>\n",
              "      <th>party_affiliation</th>\n",
              "      <th>barely_true</th>\n",
              "      <th>false</th>\n",
              "      <th>half_true</th>\n",
              "      <th>mostly_true</th>\n",
              "      <th>pants_on_fire</th>\n",
              "      <th>context</th>\n",
              "    </tr>\n",
              "  </thead>\n",
              "  <tbody>\n",
              "    <tr>\n",
              "      <th>0</th>\n",
              "      <td>11972.json</td>\n",
              "      <td>True</td>\n",
              "      <td>Building a wall on the U.S.-Mexico border will take literally years.</td>\n",
              "      <td>immigration</td>\n",
              "      <td>rick-perry</td>\n",
              "      <td>Governor</td>\n",
              "      <td>Texas</td>\n",
              "      <td>republican</td>\n",
              "      <td>30</td>\n",
              "      <td>30</td>\n",
              "      <td>42</td>\n",
              "      <td>23</td>\n",
              "      <td>18</td>\n",
              "      <td>Radio interview</td>\n",
              "    </tr>\n",
              "  </tbody>\n",
              "</table>\n",
              "</div>\n",
              "    <div class=\"colab-df-buttons\">\n",
              "\n",
              "  <div class=\"colab-df-container\">\n",
              "    <button class=\"colab-df-convert\" onclick=\"convertToInteractive('df-c4b78540-3a51-42b3-bb6c-d7c5542282b4')\"\n",
              "            title=\"Convert this dataframe to an interactive table.\"\n",
              "            style=\"display:none;\">\n",
              "\n",
              "  <svg xmlns=\"http://www.w3.org/2000/svg\" height=\"24px\" viewBox=\"0 -960 960 960\">\n",
              "    <path d=\"M120-120v-720h720v720H120Zm60-500h600v-160H180v160Zm220 220h160v-160H400v160Zm0 220h160v-160H400v160ZM180-400h160v-160H180v160Zm440 0h160v-160H620v160ZM180-180h160v-160H180v160Zm440 0h160v-160H620v160Z\"/>\n",
              "  </svg>\n",
              "    </button>\n",
              "\n",
              "  <style>\n",
              "    .colab-df-container {\n",
              "      display:flex;\n",
              "      gap: 12px;\n",
              "    }\n",
              "\n",
              "    .colab-df-convert {\n",
              "      background-color: #E8F0FE;\n",
              "      border: none;\n",
              "      border-radius: 50%;\n",
              "      cursor: pointer;\n",
              "      display: none;\n",
              "      fill: #1967D2;\n",
              "      height: 32px;\n",
              "      padding: 0 0 0 0;\n",
              "      width: 32px;\n",
              "    }\n",
              "\n",
              "    .colab-df-convert:hover {\n",
              "      background-color: #E2EBFA;\n",
              "      box-shadow: 0px 1px 2px rgba(60, 64, 67, 0.3), 0px 1px 3px 1px rgba(60, 64, 67, 0.15);\n",
              "      fill: #174EA6;\n",
              "    }\n",
              "\n",
              "    .colab-df-buttons div {\n",
              "      margin-bottom: 4px;\n",
              "    }\n",
              "\n",
              "    [theme=dark] .colab-df-convert {\n",
              "      background-color: #3B4455;\n",
              "      fill: #D2E3FC;\n",
              "    }\n",
              "\n",
              "    [theme=dark] .colab-df-convert:hover {\n",
              "      background-color: #434B5C;\n",
              "      box-shadow: 0px 1px 3px 1px rgba(0, 0, 0, 0.15);\n",
              "      filter: drop-shadow(0px 1px 2px rgba(0, 0, 0, 0.3));\n",
              "      fill: #FFFFFF;\n",
              "    }\n",
              "  </style>\n",
              "\n",
              "    <script>\n",
              "      const buttonEl =\n",
              "        document.querySelector('#df-c4b78540-3a51-42b3-bb6c-d7c5542282b4 button.colab-df-convert');\n",
              "      buttonEl.style.display =\n",
              "        google.colab.kernel.accessAllowed ? 'block' : 'none';\n",
              "\n",
              "      async function convertToInteractive(key) {\n",
              "        const element = document.querySelector('#df-c4b78540-3a51-42b3-bb6c-d7c5542282b4');\n",
              "        const dataTable =\n",
              "          await google.colab.kernel.invokeFunction('convertToInteractive',\n",
              "                                                    [key], {});\n",
              "        if (!dataTable) return;\n",
              "\n",
              "        const docLinkHtml = 'Like what you see? Visit the ' +\n",
              "          '<a target=\"_blank\" href=https://colab.research.google.com/notebooks/data_table.ipynb>data table notebook</a>'\n",
              "          + ' to learn more about interactive tables.';\n",
              "        element.innerHTML = '';\n",
              "        dataTable['output_type'] = 'display_data';\n",
              "        await google.colab.output.renderOutput(dataTable, element);\n",
              "        const docLink = document.createElement('div');\n",
              "        docLink.innerHTML = docLinkHtml;\n",
              "        element.appendChild(docLink);\n",
              "      }\n",
              "    </script>\n",
              "  </div>\n",
              "\n",
              "\n",
              "    </div>\n",
              "  </div>\n"
            ],
            "application/vnd.google.colaboratory.intrinsic+json": {
              "type": "dataframe",
              "variable_name": "testDF",
              "summary": "{\n  \"name\": \"testDF\",\n  \"rows\": 461,\n  \"fields\": [\n    {\n      \"column\": \"id\",\n      \"properties\": {\n        \"dtype\": \"string\",\n        \"num_unique_values\": 461,\n        \"samples\": [\n          \"1333.json\",\n          \"8761.json\",\n          \"8667.json\"\n        ],\n        \"semantic_type\": \"\",\n        \"description\": \"\"\n      }\n    },\n    {\n      \"column\": \"label\",\n      \"properties\": {\n        \"dtype\": \"boolean\",\n        \"num_unique_values\": 2,\n        \"samples\": [\n          false,\n          true\n        ],\n        \"semantic_type\": \"\",\n        \"description\": \"\"\n      }\n    },\n    {\n      \"column\": \"statement\",\n      \"properties\": {\n        \"dtype\": \"string\",\n        \"num_unique_values\": 461,\n        \"samples\": [\n          \"Obama has \\\"visited more countries and met with more world leaders than any president in his first six months in office.\\\"\",\n          \"A judges order means theres a Constitution exemption zone if you live within 100 miles of the United States border.\"\n        ],\n        \"semantic_type\": \"\",\n        \"description\": \"\"\n      }\n    },\n    {\n      \"column\": \"subjects\",\n      \"properties\": {\n        \"dtype\": \"string\",\n        \"num_unique_values\": 312,\n        \"samples\": [\n          \"cap-and-trade,climate-change,environment\",\n          \"economy,history\"\n        ],\n        \"semantic_type\": \"\",\n        \"description\": \"\"\n      }\n    },\n    {\n      \"column\": \"speaker\",\n      \"properties\": {\n        \"dtype\": \"string\",\n        \"num_unique_values\": 304,\n        \"samples\": [\n          \"piers-morgan\",\n          \"herman-cain\"\n        ],\n        \"semantic_type\": \"\",\n        \"description\": \"\"\n      }\n    },\n    {\n      \"column\": \"speaker_job\",\n      \"properties\": {\n        \"dtype\": \"category\",\n        \"num_unique_values\": 167,\n        \"samples\": [\n          \"U.S. Representative, Florida District 23\",\n          \"Host of \\\"Piers Morgan Tonight\\\"\"\n        ],\n        \"semantic_type\": \"\",\n        \"description\": \"\"\n      }\n    },\n    {\n      \"column\": \"state_info\",\n      \"properties\": {\n        \"dtype\": \"category\",\n        \"num_unique_values\": 40,\n        \"samples\": [\n          \"Washington, D.C.\",\n          \"ohio\"\n        ],\n        \"semantic_type\": \"\",\n        \"description\": \"\"\n      }\n    },\n    {\n      \"column\": \"party_affiliation\",\n      \"properties\": {\n        \"dtype\": \"category\",\n        \"num_unique_values\": 13,\n        \"samples\": [\n          \"newsmaker\",\n          \"talk-show-host\"\n        ],\n        \"semantic_type\": \"\",\n        \"description\": \"\"\n      }\n    },\n    {\n      \"column\": \"barely_true\",\n      \"properties\": {\n        \"dtype\": \"number\",\n        \"std\": 18,\n        \"min\": 0,\n        \"max\": 70,\n        \"num_unique_values\": 30,\n        \"samples\": [\n          17,\n          7\n        ],\n        \"semantic_type\": \"\",\n        \"description\": \"\"\n      }\n    },\n    {\n      \"column\": \"false\",\n      \"properties\": {\n        \"dtype\": \"number\",\n        \"std\": 22,\n        \"min\": 0,\n        \"max\": 114,\n        \"num_unique_values\": 30,\n        \"samples\": [\n          17,\n          41\n        ],\n        \"semantic_type\": \"\",\n        \"description\": \"\"\n      }\n    },\n    {\n      \"column\": \"half_true\",\n      \"properties\": {\n        \"dtype\": \"number\",\n        \"std\": 34,\n        \"min\": 0,\n        \"max\": 160,\n        \"num_unique_values\": 29,\n        \"samples\": [\n          22,\n          160\n        ],\n        \"semantic_type\": \"\",\n        \"description\": \"\"\n      }\n    },\n    {\n      \"column\": \"mostly_true\",\n      \"properties\": {\n        \"dtype\": \"number\",\n        \"std\": 34,\n        \"min\": 0,\n        \"max\": 163,\n        \"num_unique_values\": 27,\n        \"samples\": [\n          2,\n          40\n        ],\n        \"semantic_type\": \"\",\n        \"description\": \"\"\n      }\n    },\n    {\n      \"column\": \"pants_on_fire\",\n      \"properties\": {\n        \"dtype\": \"number\",\n        \"std\": 15,\n        \"min\": 0,\n        \"max\": 105,\n        \"num_unique_values\": 20,\n        \"samples\": [\n          18,\n          19\n        ],\n        \"semantic_type\": \"\",\n        \"description\": \"\"\n      }\n    },\n    {\n      \"column\": \"context\",\n      \"properties\": {\n        \"dtype\": \"string\",\n        \"num_unique_values\": 333,\n        \"samples\": [\n          \"a news release\",\n          \"a hearing of the congressional \\\"Supercommittee\\\"\"\n        ],\n        \"semantic_type\": \"\",\n        \"description\": \"\"\n      }\n    }\n  ]\n}"
            }
          },
          "metadata": {},
          "execution_count": 49
        }
      ]
    },
    {
      "cell_type": "markdown",
      "source": [
        "# Pre processing\n"
      ],
      "metadata": {
        "id": "p0pXPR88osZb"
      }
    },
    {
      "cell_type": "markdown",
      "source": [
        "### Importy"
      ],
      "metadata": {
        "id": "1lSHNiBso7Zr"
      }
    },
    {
      "cell_type": "code",
      "source": [
        "import re\n",
        "\n",
        "import nltk\n",
        "from nltk.tokenize import word_tokenize\n",
        "from nltk.corpus import stopwords\n",
        "from nltk.stem import WordNetLemmatizer, PorterStemmer\n",
        "import spacy\n",
        "\n",
        "nltk.download('punkt')\n",
        "nltk.download('punkt_tab')\n",
        "nltk.download('stopwords')\n",
        "nltk.download('wordnet')"
      ],
      "metadata": {
        "id": "QY0_YpReou7V",
        "colab": {
          "base_uri": "https://localhost:8080/"
        },
        "outputId": "89bdba65-5543-4b5b-a281-1b980d09916a"
      },
      "execution_count": 50,
      "outputs": [
        {
          "output_type": "stream",
          "name": "stderr",
          "text": [
            "[nltk_data] Downloading package punkt to /root/nltk_data...\n",
            "[nltk_data]   Package punkt is already up-to-date!\n",
            "[nltk_data] Downloading package punkt_tab to /root/nltk_data...\n",
            "[nltk_data]   Package punkt_tab is already up-to-date!\n",
            "[nltk_data] Downloading package stopwords to /root/nltk_data...\n",
            "[nltk_data]   Package stopwords is already up-to-date!\n",
            "[nltk_data] Downloading package wordnet to /root/nltk_data...\n",
            "[nltk_data]   Package wordnet is already up-to-date!\n"
          ]
        },
        {
          "output_type": "execute_result",
          "data": {
            "text/plain": [
              "True"
            ]
          },
          "metadata": {},
          "execution_count": 50
        }
      ]
    },
    {
      "cell_type": "markdown",
      "source": [
        "### Stop words"
      ],
      "metadata": {
        "id": "v7uIQ2qupBEy"
      }
    },
    {
      "cell_type": "code",
      "source": [
        "stop_words = set(stopwords.words('english'))"
      ],
      "metadata": {
        "id": "FPoD8RAlpHnW"
      },
      "execution_count": 51,
      "outputs": []
    },
    {
      "cell_type": "code",
      "source": [
        "#2 wersja z użyciem spacy\n",
        "\n",
        "# nlp = spacy.load('en_core_web_sm')\n",
        "\n",
        "#można tez połączyć te dwie metody robiąc listę każdej i potem .concat()"
      ],
      "metadata": {
        "id": "uaA3-O44pJae"
      },
      "execution_count": 52,
      "outputs": []
    },
    {
      "cell_type": "markdown",
      "source": [
        "### Czyszczenie tekstu"
      ],
      "metadata": {
        "id": "TVRG8GJeovaO"
      }
    },
    {
      "cell_type": "code",
      "source": [
        "def clean_text(text):\n",
        "    text = text.lower()  # lowercase\n",
        "    text = re.sub(r'\\d+', '', text)  # remove all digits from text\n",
        "    text = re.sub(r'[^\\w\\s]', '', text)  # remove punctuation\n",
        "    text = re.sub(r'<[^>]+>', '', text)  # remove html tags\n",
        "    text = re.sub(r'<[^>]*>', '', text)  # additional html tag removal\n",
        "    emojis = re.findall(r'(?::|;|=)(?:-)?(?:\\)|\\(|D|P)', text)  # find emojis\n",
        "    text = re.sub(r'[\\W]+', ' ', text) + ' '.join(emojis).replace('-', '')\n",
        "    text = text.strip() # remove\n",
        "    return text"
      ],
      "metadata": {
        "id": "XPYfq0ncpOsz"
      },
      "execution_count": 53,
      "outputs": []
    },
    {
      "cell_type": "markdown",
      "source": [
        "### Lematyzacja"
      ],
      "metadata": {
        "id": "9kkKrgxwpTgR"
      }
    },
    {
      "cell_type": "code",
      "source": [
        "lemmatizer = WordNetLemmatizer()"
      ],
      "metadata": {
        "id": "zXuRJPAWpWiB"
      },
      "execution_count": 54,
      "outputs": []
    },
    {
      "cell_type": "markdown",
      "source": [
        "### Stemming"
      ],
      "metadata": {
        "id": "J05mKHztpYnY"
      }
    },
    {
      "cell_type": "code",
      "source": [
        "porter = PorterStemmer()"
      ],
      "metadata": {
        "id": "JqtxAdt9pYG8"
      },
      "execution_count": 55,
      "outputs": []
    },
    {
      "cell_type": "markdown",
      "source": [
        "### Tokenizacja + poprzednie funkcje"
      ],
      "metadata": {
        "id": "SfDsPdYYpeVA"
      }
    },
    {
      "cell_type": "code",
      "source": [
        "def custom_tokenizer(text, cfg):\n",
        "    text = clean_text(text)\n",
        "    tokens = word_tokenize(text)\n",
        "\n",
        "    if cfg[\"lemmatization\"]:\n",
        "        tokens = [lemmatizer.lemmatize(token) for token in tokens]\n",
        "    if cfg[\"stemming\"]:\n",
        "        tokens = [porter.stem(token) for token in tokens]\n",
        "    if cfg[\"remove_stopwords\"]:\n",
        "        tokens = [t for t in tokens if t not in stop_words]\n",
        "    tokens = [t for t in tokens if len(t) >= cfg[\"min_token_length\"]]\n",
        "\n",
        "    if cfg[\"concat_to_sentence\"]:\n",
        "        return \" \".join(tokens)\n",
        "    return tokens\n"
      ],
      "metadata": {
        "id": "ATsFHtl11Fhg"
      },
      "execution_count": 56,
      "outputs": []
    },
    {
      "cell_type": "markdown",
      "source": [
        "# Metoda Embedding"
      ],
      "metadata": {
        "id": "12PKhyxq2_Wo"
      }
    },
    {
      "cell_type": "code",
      "source": [],
      "metadata": {
        "id": "N70Lwmsc3Iom"
      },
      "execution_count": 56,
      "outputs": []
    },
    {
      "cell_type": "markdown",
      "source": [
        "# Metoda Klasyfikacji"
      ],
      "metadata": {
        "id": "0TGMpGty3Jmf"
      }
    },
    {
      "cell_type": "code",
      "source": [],
      "metadata": {
        "id": "we2cT86r3SZI"
      },
      "execution_count": 56,
      "outputs": []
    },
    {
      "cell_type": "markdown",
      "source": [
        "# Wywołanie Taska"
      ],
      "metadata": {
        "id": "GOkJexGjt8LA"
      }
    },
    {
      "cell_type": "code",
      "source": [
        "task_name = \"Wpisać nazwe Taska\"\n",
        "\n",
        "# Tworzenie taska\n",
        "task = Task.init(project_name=\"FakeNewsDetection\", task_name=task_name)\n",
        "\n",
        "# config do preprocesingu\n",
        "cfg_preprocessing ={\n",
        "    \"tokenizer\": True,\n",
        "    \"lemmatization\": True,\n",
        "    \"stemming\": False,\n",
        "    \"remove_stopwords\": True,\n",
        "    \"min_token_length\": 3, # wywala slowa któtsze niz 3\n",
        "    \"concat_to_sentence\": False # czy łaczymy w zdania (True) czy zostawimy jako wyrazy (False)\n",
        "}\n",
        "\n",
        "# preprocessing\n",
        "df_train[\"tokens\"] = df_train[\"statement\"].apply(lambda x: custom_tokenizer(x, cfg_preprocessing))\n",
        "df_valid[\"tokens\"] = df_valid[\"statement\"].apply(lambda x: custom_tokenizer(x, cfg_preprocessing))\n",
        "df_test[\"tokens\"] = df_test[\"statement\"].apply(lambda x: custom_tokenizer(x, cfg_preprocessing))\n",
        "\n",
        "\n",
        "# wyswietl przyklad preprocesingu\n",
        "print(df_train[[\"statement\", \"tokens\"]].head(3))\n",
        "\n",
        "\n",
        "# metoda\n",
        "start_time = time.time()\n",
        "\n",
        "# Tutaj kod ..... = history = model.fit(...)\n",
        "\n",
        "end_time = time.time()\n",
        "training_duration = end_time - start_time\n",
        "\n",
        "# Tutaj kod ..... = test_loss, test_accuracy = model.evaluate(X_test, y_test)\n",
        "\n",
        "logger = task.get_logger()\n",
        "for epoch in range(len(history.history['loss'])):\n",
        "    logger.report_scalar(\"Loss\", \"train\", value=history.history['loss'][epoch], iteration=epoch)\n",
        "    logger.report_scalar(\"Loss\", \"val\", value=history.history['val_loss'][epoch], iteration=epoch)\n",
        "    logger.report_scalar(\"Accuracy\", \"train\", value=history.history['accuracy'][epoch], iteration=epoch)\n",
        "    logger.report_scalar(\"Accuracy\", \"val\", value=history.history['val_accuracy'][epoch], iteration=epoch)\n",
        "\n",
        "logger.report_scalar(\"Evaluation\", \"Test Loss\", value=test_loss, iteration=0)\n",
        "logger.report_scalar(\"Evaluation\", \"Test Accuracy\", value=test_accuracy, iteration=0)\n",
        "\n",
        "logger.report_scalar(\"Training\", \"Duration (s)\", value=training_duration, iteration=0)\n",
        "\n",
        "# Zamykanie taska\n",
        "task.close()"
      ],
      "metadata": {
        "id": "3tesH6x13KeR",
        "colab": {
          "base_uri": "https://localhost:8080/",
          "height": 468
        },
        "outputId": "b2d45e84-ea7e-43df-ef03-2d97afad394e"
      },
      "execution_count": 57,
      "outputs": [
        {
          "output_type": "stream",
          "name": "stdout",
          "text": [
            "ClearML Task: created new task id=008e4e0c44414f4798f27553ab849c3a\n",
            "ClearML results page: https://app.clear.ml/projects/25cc2e9801f0421ba3bf3ef6bcb791c7/experiments/008e4e0c44414f4798f27553ab849c3a/output/log\n",
            "ClearML results page: https://app.clear.ml/projects/25cc2e9801f0421ba3bf3ef6bcb791c7/experiments/008e4e0c44414f4798f27553ab849c3a/output/log\n",
            "ClearML Monitor: GPU monitoring failed getting GPU reading, switching off GPU monitoring\n",
            "                                                                                                                                                     statement  \\\n",
            "0                                                                           Says the Annies List political group supports third-trimester abortions on demand.   \n",
            "1                                                                               Health care reform legislation is likely to mandate free sex change surgeries.   \n",
            "2  The Chicago Bears have had more starting quarterbacks in the last 10 years than the total number of tenured (UW) faculty fired during the last two decades.   \n",
            "\n",
            "                                                                                                          tokens  \n",
            "0                               [say, annies, list, political, group, support, thirdtrimester, abortion, demand]  \n",
            "1                               [health, care, reform, legislation, likely, mandate, free, sex, change, surgery]  \n",
            "2  [chicago, bear, starting, quarterback, last, year, total, number, tenured, faculty, fired, last, two, decade]  \n"
          ]
        },
        {
          "output_type": "error",
          "ename": "NameError",
          "evalue": "name 'history' is not defined",
          "traceback": [
            "\u001b[0;31m---------------------------------------------------------------------------\u001b[0m",
            "\u001b[0;31mNameError\u001b[0m                                 Traceback (most recent call last)",
            "\u001b[0;32m<ipython-input-57-3567307411>\u001b[0m in \u001b[0;36m<cell line: 0>\u001b[0;34m()\u001b[0m\n\u001b[1;32m     35\u001b[0m \u001b[0;34m\u001b[0m\u001b[0m\n\u001b[1;32m     36\u001b[0m \u001b[0mlogger\u001b[0m \u001b[0;34m=\u001b[0m \u001b[0mtask\u001b[0m\u001b[0;34m.\u001b[0m\u001b[0mget_logger\u001b[0m\u001b[0;34m(\u001b[0m\u001b[0;34m)\u001b[0m\u001b[0;34m\u001b[0m\u001b[0;34m\u001b[0m\u001b[0m\n\u001b[0;32m---> 37\u001b[0;31m \u001b[0;32mfor\u001b[0m \u001b[0mepoch\u001b[0m \u001b[0;32min\u001b[0m \u001b[0mrange\u001b[0m\u001b[0;34m(\u001b[0m\u001b[0mlen\u001b[0m\u001b[0;34m(\u001b[0m\u001b[0mhistory\u001b[0m\u001b[0;34m.\u001b[0m\u001b[0mhistory\u001b[0m\u001b[0;34m[\u001b[0m\u001b[0;34m'loss'\u001b[0m\u001b[0;34m]\u001b[0m\u001b[0;34m)\u001b[0m\u001b[0;34m)\u001b[0m\u001b[0;34m:\u001b[0m\u001b[0;34m\u001b[0m\u001b[0;34m\u001b[0m\u001b[0m\n\u001b[0m\u001b[1;32m     38\u001b[0m     \u001b[0mlogger\u001b[0m\u001b[0;34m.\u001b[0m\u001b[0mreport_scalar\u001b[0m\u001b[0;34m(\u001b[0m\u001b[0;34m\"Loss\"\u001b[0m\u001b[0;34m,\u001b[0m \u001b[0;34m\"train\"\u001b[0m\u001b[0;34m,\u001b[0m \u001b[0mvalue\u001b[0m\u001b[0;34m=\u001b[0m\u001b[0mhistory\u001b[0m\u001b[0;34m.\u001b[0m\u001b[0mhistory\u001b[0m\u001b[0;34m[\u001b[0m\u001b[0;34m'loss'\u001b[0m\u001b[0;34m]\u001b[0m\u001b[0;34m[\u001b[0m\u001b[0mepoch\u001b[0m\u001b[0;34m]\u001b[0m\u001b[0;34m,\u001b[0m \u001b[0miteration\u001b[0m\u001b[0;34m=\u001b[0m\u001b[0mepoch\u001b[0m\u001b[0;34m)\u001b[0m\u001b[0;34m\u001b[0m\u001b[0;34m\u001b[0m\u001b[0m\n\u001b[1;32m     39\u001b[0m     \u001b[0mlogger\u001b[0m\u001b[0;34m.\u001b[0m\u001b[0mreport_scalar\u001b[0m\u001b[0;34m(\u001b[0m\u001b[0;34m\"Loss\"\u001b[0m\u001b[0;34m,\u001b[0m \u001b[0;34m\"val\"\u001b[0m\u001b[0;34m,\u001b[0m \u001b[0mvalue\u001b[0m\u001b[0;34m=\u001b[0m\u001b[0mhistory\u001b[0m\u001b[0;34m.\u001b[0m\u001b[0mhistory\u001b[0m\u001b[0;34m[\u001b[0m\u001b[0;34m'val_loss'\u001b[0m\u001b[0;34m]\u001b[0m\u001b[0;34m[\u001b[0m\u001b[0mepoch\u001b[0m\u001b[0;34m]\u001b[0m\u001b[0;34m,\u001b[0m \u001b[0miteration\u001b[0m\u001b[0;34m=\u001b[0m\u001b[0mepoch\u001b[0m\u001b[0;34m)\u001b[0m\u001b[0;34m\u001b[0m\u001b[0;34m\u001b[0m\u001b[0m\n",
            "\u001b[0;31mNameError\u001b[0m: name 'history' is not defined"
          ]
        }
      ]
    }
  ]
}