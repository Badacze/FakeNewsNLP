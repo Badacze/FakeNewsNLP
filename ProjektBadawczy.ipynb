{
  "nbformat": 4,
  "nbformat_minor": 0,
  "metadata": {
    "colab": {
      "provenance": []
    },
    "kernelspec": {
      "name": "python3",
      "display_name": "Python 3"
    },
    "language_info": {
      "name": "python"
    }
  },
  "cells": [
    {
      "cell_type": "markdown",
      "source": [
        "ClearML Template"
      ],
      "metadata": {
        "id": "kNcMXXx5wody"
      }
    },
    {
      "cell_type": "code",
      "execution_count": 17,
      "metadata": {
        "id": "TwaNcekrdhip",
        "colab": {
          "base_uri": "https://localhost:8080/"
        },
        "outputId": "2d75ef6d-7397-439d-a542-13193d1d0cfc"
      },
      "outputs": [
        {
          "output_type": "stream",
          "name": "stdout",
          "text": [
            "Requirement already satisfied: clearml in /usr/local/lib/python3.11/dist-packages (2.0.0)\n",
            "Requirement already satisfied: attrs>=18.0 in /usr/local/lib/python3.11/dist-packages (from clearml) (25.3.0)\n",
            "Requirement already satisfied: furl>=2.0.0 in /usr/local/lib/python3.11/dist-packages (from clearml) (2.1.4)\n",
            "Requirement already satisfied: jsonschema>=2.6.0 in /usr/local/lib/python3.11/dist-packages (from clearml) (4.24.0)\n",
            "Requirement already satisfied: numpy>=1.10 in /usr/local/lib/python3.11/dist-packages (from clearml) (2.0.2)\n",
            "Requirement already satisfied: pathlib2>=2.3.0 in /usr/local/lib/python3.11/dist-packages (from clearml) (2.3.7.post1)\n",
            "Requirement already satisfied: psutil>=3.4.2 in /usr/local/lib/python3.11/dist-packages (from clearml) (5.9.5)\n",
            "Requirement already satisfied: pyparsing>=2.0.3 in /usr/local/lib/python3.11/dist-packages (from clearml) (3.2.3)\n",
            "Requirement already satisfied: python-dateutil>=2.6.1 in /usr/local/lib/python3.11/dist-packages (from clearml) (2.9.0.post0)\n",
            "Requirement already satisfied: pyjwt<2.11.0,>=2.4.0 in /usr/local/lib/python3.11/dist-packages (from clearml) (2.10.1)\n",
            "Requirement already satisfied: PyYAML>=3.12 in /usr/local/lib/python3.11/dist-packages (from clearml) (6.0.2)\n",
            "Requirement already satisfied: six>=1.16.0 in /usr/local/lib/python3.11/dist-packages (from clearml) (1.17.0)\n",
            "Requirement already satisfied: urllib3>=1.21.1 in /usr/local/lib/python3.11/dist-packages (from clearml) (2.4.0)\n",
            "Requirement already satisfied: Pillow>=10.3.0 in /usr/local/lib/python3.11/dist-packages (from clearml) (11.2.1)\n",
            "Requirement already satisfied: referencing<0.40 in /usr/local/lib/python3.11/dist-packages (from clearml) (0.36.2)\n",
            "Requirement already satisfied: requests>=2.32.0 in /usr/local/lib/python3.11/dist-packages (from clearml) (2.32.3)\n",
            "Requirement already satisfied: orderedmultidict>=1.0.1 in /usr/local/lib/python3.11/dist-packages (from furl>=2.0.0->clearml) (1.0.1)\n",
            "Requirement already satisfied: jsonschema-specifications>=2023.03.6 in /usr/local/lib/python3.11/dist-packages (from jsonschema>=2.6.0->clearml) (2025.4.1)\n",
            "Requirement already satisfied: rpds-py>=0.7.1 in /usr/local/lib/python3.11/dist-packages (from jsonschema>=2.6.0->clearml) (0.25.1)\n",
            "Requirement already satisfied: typing-extensions>=4.4.0 in /usr/local/lib/python3.11/dist-packages (from referencing<0.40->clearml) (4.14.0)\n",
            "Requirement already satisfied: charset-normalizer<4,>=2 in /usr/local/lib/python3.11/dist-packages (from requests>=2.32.0->clearml) (3.4.2)\n",
            "Requirement already satisfied: idna<4,>=2.5 in /usr/local/lib/python3.11/dist-packages (from requests>=2.32.0->clearml) (3.10)\n",
            "Requirement already satisfied: certifi>=2017.4.17 in /usr/local/lib/python3.11/dist-packages (from requests>=2.32.0->clearml) (2025.6.15)\n"
          ]
        }
      ],
      "source": [
        "!pip install clearml\n",
        "\n",
        "from clearml import Task, Dataset\n",
        "\n",
        "import pandas as pd\n",
        "import os\n",
        "import time\n",
        "\n",
        "\n",
        "os.environ[\"CLEARML_API_ACCESS_KEY\"] = \"BF3OQG84RHSYHO86OIYII6Y7VVVMDV\"\n",
        "os.environ[\"CLEARML_API_SECRET_KEY\"] = \"7qQDrf96hXOsbmEio_kUbkEjUqqKaMyq4HB4K1fzOWHjKPelw2HEJdB3RrUvh4FZlA8\"\n",
        "os.environ[\"CLEARML_API_HOST\"] = \"https://api.clear.ml\"\n",
        "os.environ[\"CLEARML_WEB_HOST\"] = \"https://app.clear.ml\"\n",
        "os.environ[\"CLEARML_FILES_HOST\"] = \"https://files.clear.ml\""
      ]
    },
    {
      "cell_type": "code",
      "source": [
        "testDataPath = Dataset.get(dataset_id=\"a5958fdaf8cd449bbadc2bf57e5e797b\").get_local_copy()\n",
        "print(testDataPath)"
      ],
      "metadata": {
        "id": "HdDwC0Eg3nHV",
        "colab": {
          "base_uri": "https://localhost:8080/"
        },
        "outputId": "dd016a6a-1940-4523-8b84-c157a1d1e4a8"
      },
      "execution_count": 18,
      "outputs": [
        {
          "output_type": "stream",
          "name": "stdout",
          "text": [
            "/root/.clearml/cache/storage_manager/datasets/ds_a5958fdaf8cd449bbadc2bf57e5e797b\n"
          ]
        }
      ]
    },
    {
      "cell_type": "code",
      "source": [
        "test_val_train_folder=os.listdir(testDataPath)\n",
        "\n",
        "print(testDataPath+\"/\"+test_val_train_folder[0])\n",
        "print(testDataPath+\"/\"+test_val_train_folder[1])\n",
        "print(testDataPath+\"/\"+test_val_train_folder[2])"
      ],
      "metadata": {
        "id": "JcbF0rCjD5ZU",
        "colab": {
          "base_uri": "https://localhost:8080/"
        },
        "outputId": "b7c50607-7b8e-4ecf-f29f-76cd4bf7d6c4"
      },
      "execution_count": 19,
      "outputs": [
        {
          "output_type": "stream",
          "name": "stdout",
          "text": [
            "/root/.clearml/cache/storage_manager/datasets/ds_a5958fdaf8cd449bbadc2bf57e5e797b/train_filtered.tsv\n",
            "/root/.clearml/cache/storage_manager/datasets/ds_a5958fdaf8cd449bbadc2bf57e5e797b/test_filtered.tsv\n",
            "/root/.clearml/cache/storage_manager/datasets/ds_a5958fdaf8cd449bbadc2bf57e5e797b/valid_filtered.tsv\n"
          ]
        }
      ]
    },
    {
      "cell_type": "code",
      "source": [
        "# wczytujemy do DataFrame\n",
        "columns = [\n",
        "    \"id\", \"label\", \"statement\", \"subjects\", \"speaker\", \"speaker_job\", \"state_info\",\n",
        "    \"party_affiliation\", \"barely_true\", \"false\", \"half_true\",\n",
        "    \"mostly_true\", \"pants_on_fire\", \"context\"\n",
        "]\n",
        "\n",
        "testDF = pd.read_csv(testDataPath+\"/\"+test_val_train_folder[0], sep='\\t', names=columns, header=None)\n",
        "valDF = pd.read_csv(testDataPath+\"/\"+test_val_train_folder[1], sep='\\t', names=columns, header=None)\n",
        "trainDF = pd.read_csv(testDataPath+\"/\"+test_val_train_folder[2], sep='\\t',names=columns, header=None )\n",
        "\n",
        "df_train = trainDF\n",
        "df_valid = valDF\n",
        "df_test = testDF"
      ],
      "metadata": {
        "id": "wy72t1grm0RJ"
      },
      "execution_count": 20,
      "outputs": []
    },
    {
      "cell_type": "code",
      "source": [
        "testDF.head(1)"
      ],
      "metadata": {
        "colab": {
          "base_uri": "https://localhost:8080/",
          "height": 81
        },
        "id": "QF6PBvTMnC-B",
        "outputId": "26fa1b14-f953-4cd7-85e7-7ee22608ed41"
      },
      "execution_count": 21,
      "outputs": [
        {
          "output_type": "execute_result",
          "data": {
            "text/plain": [
              "          id  label  \\\n",
              "0  2635.json  False   \n",
              "\n",
              "                                                                            statement  \\\n",
              "0  Says the Annies List political group supports third-trimester abortions on demand.   \n",
              "\n",
              "   subjects       speaker           speaker_job state_info party_affiliation  \\\n",
              "0  abortion  dwayne-bohac  State representative      Texas        republican   \n",
              "\n",
              "   barely_true  false  half_true  mostly_true  pants_on_fire   context  \n",
              "0            0      1          0            0              0  a mailer  "
            ],
            "text/html": [
              "\n",
              "  <div id=\"df-c175965d-8a26-40a4-bac7-a39a6df2b8e6\" class=\"colab-df-container\">\n",
              "    <div>\n",
              "<style scoped>\n",
              "    .dataframe tbody tr th:only-of-type {\n",
              "        vertical-align: middle;\n",
              "    }\n",
              "\n",
              "    .dataframe tbody tr th {\n",
              "        vertical-align: top;\n",
              "    }\n",
              "\n",
              "    .dataframe thead th {\n",
              "        text-align: right;\n",
              "    }\n",
              "</style>\n",
              "<table border=\"1\" class=\"dataframe\">\n",
              "  <thead>\n",
              "    <tr style=\"text-align: right;\">\n",
              "      <th></th>\n",
              "      <th>id</th>\n",
              "      <th>label</th>\n",
              "      <th>statement</th>\n",
              "      <th>subjects</th>\n",
              "      <th>speaker</th>\n",
              "      <th>speaker_job</th>\n",
              "      <th>state_info</th>\n",
              "      <th>party_affiliation</th>\n",
              "      <th>barely_true</th>\n",
              "      <th>false</th>\n",
              "      <th>half_true</th>\n",
              "      <th>mostly_true</th>\n",
              "      <th>pants_on_fire</th>\n",
              "      <th>context</th>\n",
              "    </tr>\n",
              "  </thead>\n",
              "  <tbody>\n",
              "    <tr>\n",
              "      <th>0</th>\n",
              "      <td>2635.json</td>\n",
              "      <td>False</td>\n",
              "      <td>Says the Annies List political group supports third-trimester abortions on demand.</td>\n",
              "      <td>abortion</td>\n",
              "      <td>dwayne-bohac</td>\n",
              "      <td>State representative</td>\n",
              "      <td>Texas</td>\n",
              "      <td>republican</td>\n",
              "      <td>0</td>\n",
              "      <td>1</td>\n",
              "      <td>0</td>\n",
              "      <td>0</td>\n",
              "      <td>0</td>\n",
              "      <td>a mailer</td>\n",
              "    </tr>\n",
              "  </tbody>\n",
              "</table>\n",
              "</div>\n",
              "    <div class=\"colab-df-buttons\">\n",
              "\n",
              "  <div class=\"colab-df-container\">\n",
              "    <button class=\"colab-df-convert\" onclick=\"convertToInteractive('df-c175965d-8a26-40a4-bac7-a39a6df2b8e6')\"\n",
              "            title=\"Convert this dataframe to an interactive table.\"\n",
              "            style=\"display:none;\">\n",
              "\n",
              "  <svg xmlns=\"http://www.w3.org/2000/svg\" height=\"24px\" viewBox=\"0 -960 960 960\">\n",
              "    <path d=\"M120-120v-720h720v720H120Zm60-500h600v-160H180v160Zm220 220h160v-160H400v160Zm0 220h160v-160H400v160ZM180-400h160v-160H180v160Zm440 0h160v-160H620v160ZM180-180h160v-160H180v160Zm440 0h160v-160H620v160Z\"/>\n",
              "  </svg>\n",
              "    </button>\n",
              "\n",
              "  <style>\n",
              "    .colab-df-container {\n",
              "      display:flex;\n",
              "      gap: 12px;\n",
              "    }\n",
              "\n",
              "    .colab-df-convert {\n",
              "      background-color: #E8F0FE;\n",
              "      border: none;\n",
              "      border-radius: 50%;\n",
              "      cursor: pointer;\n",
              "      display: none;\n",
              "      fill: #1967D2;\n",
              "      height: 32px;\n",
              "      padding: 0 0 0 0;\n",
              "      width: 32px;\n",
              "    }\n",
              "\n",
              "    .colab-df-convert:hover {\n",
              "      background-color: #E2EBFA;\n",
              "      box-shadow: 0px 1px 2px rgba(60, 64, 67, 0.3), 0px 1px 3px 1px rgba(60, 64, 67, 0.15);\n",
              "      fill: #174EA6;\n",
              "    }\n",
              "\n",
              "    .colab-df-buttons div {\n",
              "      margin-bottom: 4px;\n",
              "    }\n",
              "\n",
              "    [theme=dark] .colab-df-convert {\n",
              "      background-color: #3B4455;\n",
              "      fill: #D2E3FC;\n",
              "    }\n",
              "\n",
              "    [theme=dark] .colab-df-convert:hover {\n",
              "      background-color: #434B5C;\n",
              "      box-shadow: 0px 1px 3px 1px rgba(0, 0, 0, 0.15);\n",
              "      filter: drop-shadow(0px 1px 2px rgba(0, 0, 0, 0.3));\n",
              "      fill: #FFFFFF;\n",
              "    }\n",
              "  </style>\n",
              "\n",
              "    <script>\n",
              "      const buttonEl =\n",
              "        document.querySelector('#df-c175965d-8a26-40a4-bac7-a39a6df2b8e6 button.colab-df-convert');\n",
              "      buttonEl.style.display =\n",
              "        google.colab.kernel.accessAllowed ? 'block' : 'none';\n",
              "\n",
              "      async function convertToInteractive(key) {\n",
              "        const element = document.querySelector('#df-c175965d-8a26-40a4-bac7-a39a6df2b8e6');\n",
              "        const dataTable =\n",
              "          await google.colab.kernel.invokeFunction('convertToInteractive',\n",
              "                                                    [key], {});\n",
              "        if (!dataTable) return;\n",
              "\n",
              "        const docLinkHtml = 'Like what you see? Visit the ' +\n",
              "          '<a target=\"_blank\" href=https://colab.research.google.com/notebooks/data_table.ipynb>data table notebook</a>'\n",
              "          + ' to learn more about interactive tables.';\n",
              "        element.innerHTML = '';\n",
              "        dataTable['output_type'] = 'display_data';\n",
              "        await google.colab.output.renderOutput(dataTable, element);\n",
              "        const docLink = document.createElement('div');\n",
              "        docLink.innerHTML = docLinkHtml;\n",
              "        element.appendChild(docLink);\n",
              "      }\n",
              "    </script>\n",
              "  </div>\n",
              "\n",
              "\n",
              "    </div>\n",
              "  </div>\n"
            ],
            "application/vnd.google.colaboratory.intrinsic+json": {
              "type": "dataframe",
              "variable_name": "testDF",
              "summary": "{\n  \"name\": \"testDF\",\n  \"rows\": 3681,\n  \"fields\": [\n    {\n      \"column\": \"id\",\n      \"properties\": {\n        \"dtype\": \"string\",\n        \"num_unique_values\": 3681,\n        \"samples\": [\n          \"821.json\",\n          \"9245.json\",\n          \"2825.json\"\n        ],\n        \"semantic_type\": \"\",\n        \"description\": \"\"\n      }\n    },\n    {\n      \"column\": \"label\",\n      \"properties\": {\n        \"dtype\": \"boolean\",\n        \"num_unique_values\": 2,\n        \"samples\": [\n          true,\n          false\n        ],\n        \"semantic_type\": \"\",\n        \"description\": \"\"\n      }\n    },\n    {\n      \"column\": \"statement\",\n      \"properties\": {\n        \"dtype\": \"string\",\n        \"num_unique_values\": 3671,\n        \"samples\": [\n          \"59 percent of Americans today believe that Barack Obama is still a Muslim.\",\n          \"Heroin and prescription opioids are the number one cause of accidental or preventable death in Wisconsin.\"\n        ],\n        \"semantic_type\": \"\",\n        \"description\": \"\"\n      }\n    },\n    {\n      \"column\": \"subjects\",\n      \"properties\": {\n        \"dtype\": \"category\",\n        \"num_unique_values\": 1641,\n        \"samples\": [\n          \"financial-regulation,new-hampshire-2012\",\n          \"debt,economy,environment,infrastructure,state-budget,transportation\"\n        ],\n        \"semantic_type\": \"\",\n        \"description\": \"\"\n      }\n    },\n    {\n      \"column\": \"speaker\",\n      \"properties\": {\n        \"dtype\": \"category\",\n        \"num_unique_values\": 1496,\n        \"samples\": [\n          \"pat-boone\",\n          \"kris-jordan\"\n        ],\n        \"semantic_type\": \"\",\n        \"description\": \"\"\n      }\n    },\n    {\n      \"column\": \"speaker_job\",\n      \"properties\": {\n        \"dtype\": \"category\",\n        \"num_unique_values\": 642,\n        \"samples\": [\n          \"Republican strategist\",\n          \"Restauranteur\"\n        ],\n        \"semantic_type\": \"\",\n        \"description\": \"\"\n      }\n    },\n    {\n      \"column\": \"state_info\",\n      \"properties\": {\n        \"dtype\": \"category\",\n        \"num_unique_values\": 63,\n        \"samples\": [\n          \"Rhode Island \",\n          \"PA - Pennsylvania\"\n        ],\n        \"semantic_type\": \"\",\n        \"description\": \"\"\n      }\n    },\n    {\n      \"column\": \"party_affiliation\",\n      \"properties\": {\n        \"dtype\": \"category\",\n        \"num_unique_values\": 18,\n        \"samples\": [\n          \"republican\",\n          \"none\"\n        ],\n        \"semantic_type\": \"\",\n        \"description\": \"\"\n      }\n    },\n    {\n      \"column\": \"barely_true\",\n      \"properties\": {\n        \"dtype\": \"number\",\n        \"std\": 19,\n        \"min\": 0,\n        \"max\": 70,\n        \"num_unique_values\": 30,\n        \"samples\": [\n          16,\n          30\n        ],\n        \"semantic_type\": \"\",\n        \"description\": \"\"\n      }\n    },\n    {\n      \"column\": \"false\",\n      \"properties\": {\n        \"dtype\": \"number\",\n        \"std\": 24,\n        \"min\": 0,\n        \"max\": 114,\n        \"num_unique_values\": 30,\n        \"samples\": [\n          8,\n          114\n        ],\n        \"semantic_type\": \"\",\n        \"description\": \"\"\n      }\n    },\n    {\n      \"column\": \"half_true\",\n      \"properties\": {\n        \"dtype\": \"number\",\n        \"std\": 35,\n        \"min\": 0,\n        \"max\": 160,\n        \"num_unique_values\": 29,\n        \"samples\": [\n          13,\n          5\n        ],\n        \"semantic_type\": \"\",\n        \"description\": \"\"\n      }\n    },\n    {\n      \"column\": \"mostly_true\",\n      \"properties\": {\n        \"dtype\": \"number\",\n        \"std\": 36,\n        \"min\": 0,\n        \"max\": 163,\n        \"num_unique_values\": 27,\n        \"samples\": [\n          4,\n          8\n        ],\n        \"semantic_type\": \"\",\n        \"description\": \"\"\n      }\n    },\n    {\n      \"column\": \"pants_on_fire\",\n      \"properties\": {\n        \"dtype\": \"number\",\n        \"std\": 15,\n        \"min\": 0,\n        \"max\": 105,\n        \"num_unique_values\": 20,\n        \"samples\": [\n          0,\n          16\n        ],\n        \"semantic_type\": \"\",\n        \"description\": \"\"\n      }\n    },\n    {\n      \"column\": \"context\",\n      \"properties\": {\n        \"dtype\": \"string\",\n        \"num_unique_values\": 1961,\n        \"samples\": [\n          \"several blog and social media posts\",\n          \"in an e-mail message from campaign spokesman Brian Rogers.\"\n        ],\n        \"semantic_type\": \"\",\n        \"description\": \"\"\n      }\n    }\n  ]\n}"
            }
          },
          "metadata": {},
          "execution_count": 21
        }
      ]
    },
    {
      "cell_type": "markdown",
      "source": [
        "# Pre processing\n"
      ],
      "metadata": {
        "id": "p0pXPR88osZb"
      }
    },
    {
      "cell_type": "markdown",
      "source": [
        "### Importy"
      ],
      "metadata": {
        "id": "1lSHNiBso7Zr"
      }
    },
    {
      "cell_type": "code",
      "source": [
        "import re\n",
        "\n",
        "import nltk\n",
        "from nltk.tokenize import word_tokenize\n",
        "from nltk.corpus import stopwords\n",
        "from nltk.stem import WordNetLemmatizer, PorterStemmer\n",
        "import spacy\n",
        "from sklearn.feature_extraction.text import CountVectorizer\n",
        "from sklearn.ensemble import RandomForestClassifier\n",
        "from sklearn.metrics import accuracy_score\n",
        "\n",
        "nltk.download('punkt')\n",
        "nltk.download('punkt_tab')\n",
        "nltk.download('stopwords')\n",
        "nltk.download('wordnet')"
      ],
      "metadata": {
        "id": "QY0_YpReou7V",
        "colab": {
          "base_uri": "https://localhost:8080/"
        },
        "outputId": "3e943d82-8878-4408-8e4c-6e4792b7dcc1"
      },
      "execution_count": 22,
      "outputs": [
        {
          "output_type": "stream",
          "name": "stderr",
          "text": [
            "[nltk_data] Downloading package punkt to /root/nltk_data...\n",
            "[nltk_data]   Package punkt is already up-to-date!\n",
            "[nltk_data] Downloading package punkt_tab to /root/nltk_data...\n",
            "[nltk_data]   Package punkt_tab is already up-to-date!\n",
            "[nltk_data] Downloading package stopwords to /root/nltk_data...\n",
            "[nltk_data]   Package stopwords is already up-to-date!\n",
            "[nltk_data] Downloading package wordnet to /root/nltk_data...\n",
            "[nltk_data]   Package wordnet is already up-to-date!\n"
          ]
        },
        {
          "output_type": "execute_result",
          "data": {
            "text/plain": [
              "True"
            ]
          },
          "metadata": {},
          "execution_count": 22
        }
      ]
    },
    {
      "cell_type": "markdown",
      "source": [
        "### Stop words"
      ],
      "metadata": {
        "id": "v7uIQ2qupBEy"
      }
    },
    {
      "cell_type": "code",
      "source": [
        "stop_words = set(stopwords.words('english'))"
      ],
      "metadata": {
        "id": "FPoD8RAlpHnW"
      },
      "execution_count": 23,
      "outputs": []
    },
    {
      "cell_type": "code",
      "source": [
        "#2 wersja z użyciem spacy\n",
        "\n",
        "# nlp = spacy.load('en_core_web_sm')\n",
        "\n",
        "#można tez połączyć te dwie metody robiąc listę każdej i potem .concat()"
      ],
      "metadata": {
        "id": "uaA3-O44pJae"
      },
      "execution_count": 24,
      "outputs": []
    },
    {
      "cell_type": "markdown",
      "source": [
        "### Czyszczenie tekstu"
      ],
      "metadata": {
        "id": "TVRG8GJeovaO"
      }
    },
    {
      "cell_type": "code",
      "source": [
        "def clean_text(text):\n",
        "    text = text.lower()  # lowercase\n",
        "    text = re.sub(r'\\d+', '', text)  # remove all digits from text\n",
        "    text = re.sub(r'[^\\w\\s]', '', text)  # remove punctuation\n",
        "    text = re.sub(r'<[^>]+>', '', text)  # remove html tags\n",
        "    text = re.sub(r'<[^>]*>', '', text)  # additional html tag removal\n",
        "    emojis = re.findall(r'(?::|;|=)(?:-)?(?:\\)|\\(|D|P)', text)  # find emojis\n",
        "    text = re.sub(r'[\\W]+', ' ', text) + ' '.join(emojis).replace('-', '')\n",
        "    text = text.strip() # remove\n",
        "    return text"
      ],
      "metadata": {
        "id": "XPYfq0ncpOsz"
      },
      "execution_count": 25,
      "outputs": []
    },
    {
      "cell_type": "markdown",
      "source": [
        "### Lematyzacja"
      ],
      "metadata": {
        "id": "9kkKrgxwpTgR"
      }
    },
    {
      "cell_type": "code",
      "source": [
        "lemmatizer = WordNetLemmatizer()"
      ],
      "metadata": {
        "id": "zXuRJPAWpWiB"
      },
      "execution_count": 26,
      "outputs": []
    },
    {
      "cell_type": "markdown",
      "source": [
        "### Stemming"
      ],
      "metadata": {
        "id": "J05mKHztpYnY"
      }
    },
    {
      "cell_type": "code",
      "source": [
        "porter = PorterStemmer()"
      ],
      "metadata": {
        "id": "JqtxAdt9pYG8"
      },
      "execution_count": 27,
      "outputs": []
    },
    {
      "cell_type": "markdown",
      "source": [
        "### Tokenizacja + poprzednie funkcje"
      ],
      "metadata": {
        "id": "SfDsPdYYpeVA"
      }
    },
    {
      "cell_type": "code",
      "source": [
        "def custom_tokenizer(text, cfg):\n",
        "    text = clean_text(text)\n",
        "    tokens = word_tokenize(text)\n",
        "\n",
        "    if cfg[\"lemmatization\"]:\n",
        "        tokens = [lemmatizer.lemmatize(token) for token in tokens]\n",
        "    if cfg[\"stemming\"]:\n",
        "        tokens = [porter.stem(token) for token in tokens]\n",
        "    if cfg[\"remove_stopwords\"]:\n",
        "        tokens = [t for t in tokens if t not in stop_words]\n",
        "    tokens = [t for t in tokens if len(t) >= cfg[\"min_token_length\"]]\n",
        "\n",
        "    if cfg[\"concat_to_sentence\"]:\n",
        "        return \" \".join(tokens)\n",
        "    return tokens\n"
      ],
      "metadata": {
        "id": "ATsFHtl11Fhg"
      },
      "execution_count": 28,
      "outputs": []
    },
    {
      "cell_type": "markdown",
      "source": [
        "# Metoda Embedding"
      ],
      "metadata": {
        "id": "12PKhyxq2_Wo"
      }
    },
    {
      "cell_type": "code",
      "source": [
        "def bowSklearn(train, val, test):\n",
        "  vectorizer = CountVectorizer(binary=True)\n",
        "  X = vectorizer.fit_transform(train) # macierz z występowaniami\n",
        "  z = vectorizer.transform(val)\n",
        "  y = vectorizer.transform(test)\n",
        "  return X.toarray(), z.toarray(), y.toarray()"
      ],
      "metadata": {
        "id": "N70Lwmsc3Iom"
      },
      "execution_count": 29,
      "outputs": []
    },
    {
      "cell_type": "markdown",
      "source": [
        "# Metoda Klasyfikacji"
      ],
      "metadata": {
        "id": "0TGMpGty3Jmf"
      }
    },
    {
      "cell_type": "code",
      "source": [
        "def getModel(X_train, y_train):\n",
        "  rf = RandomForestClassifier(n_estimators=100, random_state=42)\n",
        "  rf.fit(X_train, y_train)\n",
        "  return rf\n",
        ""
      ],
      "metadata": {
        "id": "we2cT86r3SZI"
      },
      "execution_count": 30,
      "outputs": []
    },
    {
      "cell_type": "markdown",
      "source": [
        "# Wywołanie Taska"
      ],
      "metadata": {
        "id": "GOkJexGjt8LA"
      }
    },
    {
      "cell_type": "code",
      "source": [
        "task_name = \"Testowanko BoW + Randomforest\"\n",
        "\n",
        "# Tworzenie taska\n",
        "task = Task.init(project_name=\"FakeNewsDetection\", task_name=task_name)\n",
        "\n",
        "# config do preprocesingu\n",
        "cfg_preprocessing ={\n",
        "    \"tokenizer\": True,\n",
        "    \"lemmatization\": True,\n",
        "    \"stemming\": False,\n",
        "    \"remove_stopwords\": True,\n",
        "    \"min_token_length\": 3, # wywala slowa któtsze niz 3\n",
        "    \"concat_to_sentence\": True # czy łaczymy w zdania (True) czy zostawimy jako wyrazy (False)\n",
        "}\n",
        "\n",
        "# preprocessing\n",
        "df_train[\"tokens\"] = df_train[\"statement\"].apply(lambda x: custom_tokenizer(x, cfg_preprocessing))\n",
        "df_valid[\"tokens\"] = df_valid[\"statement\"].apply(lambda x: custom_tokenizer(x, cfg_preprocessing))\n",
        "df_test[\"tokens\"] = df_test[\"statement\"].apply(lambda x: custom_tokenizer(x, cfg_preprocessing))\n",
        "\n",
        "\n",
        "# wyswietl przyklad preprocesingu\n",
        "print(df_train[[\"statement\", \"tokens\"]].head(3))\n",
        "\n",
        "\n",
        "# metoda\n",
        "start_time = time.time()\n",
        "\n",
        "# Tutaj kod ..... = history = model.fit(...)\n",
        "\n",
        "X_train, X_val, X_test = bowSklearn(df_train[\"tokens\"], df_valid[\"tokens\"], df_test[\"tokens\"])\n",
        "\n",
        "y_train = df_train[\"label\"]\n",
        "y_val = df_valid[\"label\"]\n",
        "y_test = df_test[\"label\"]\n",
        "\n",
        "rf = getModel(X_train, y_train)\n",
        "\n",
        "end_time = time.time()\n",
        "training_duration = end_time - start_time\n",
        "\n",
        "# Tutaj kod ..... = test_loss, test_accuracy = model.evaluate(X_test, y_test)\n",
        "\n",
        "train_preds = rf.predict(X_train)\n",
        "val_preds = rf.predict(X_val)\n",
        "test_preds = rf.predict(X_test)\n",
        "\n",
        "train_acc = accuracy_score(y_train, train_preds)\n",
        "val_acc = accuracy_score(y_val, val_preds)\n",
        "test_acc = accuracy_score(y_test, test_preds)\n",
        "\n",
        "logger = task.get_logger()\n",
        "logger.report_scalar(\"Duration\", \"Duration (s)\", value=training_duration, iteration=0)\n",
        "logger.report_scalar(\"Accuracy\", \"Train Accuracy\", value=train_acc, iteration=0)\n",
        "logger.report_scalar(\"Accuracy\", \"Validation Accuracy\", value=val_acc, iteration=0)\n",
        "logger.report_scalar(\"Accuracy\", \"Test Accuracy\", value=test_acc, iteration=0)\n",
        "\n",
        "# Zamykanie taska\n",
        "task.close()"
      ],
      "metadata": {
        "id": "3tesH6x13KeR",
        "colab": {
          "base_uri": "https://localhost:8080/"
        },
        "outputId": "c0a59cdf-9eb2-4e41-a927-0d030287c3b2"
      },
      "execution_count": 32,
      "outputs": [
        {
          "output_type": "stream",
          "name": "stdout",
          "text": [
            "ClearML Task: created new task id=56296f15ee8e4821b43ccd2fbbebcaa3\n",
            "ClearML results page: https://app.clear.ml/projects/25cc2e9801f0421ba3bf3ef6bcb791c7/experiments/56296f15ee8e4821b43ccd2fbbebcaa3/output/log\n",
            "                                                                                                                                                                                                      statement  \\\n",
            "0  Says Having organizations parading as being social welfare organizations and then being involved in the political combat harkens back to why the statute a hundred years ago said that they were prohibited.   \n",
            "1                                                                                Says when armed civilians stop mass shootings with guns, an average of 2.5 people die; otherwise, an average of 18 people die.   \n",
            "2                                                                                            Says Tennessee is providing millions of dollars to virtual school company for results at the bottom of the bottom.   \n",
            "\n",
            "                                                                                                                                  tokens  \n",
            "0  say organization parading social welfare organization involved political combat harkens back statute hundred year ago said prohibited  \n",
            "1                                              say armed civilian stop mass shooting gun average people die otherwise average people die  \n",
            "2                                                     say tennessee providing million dollar virtual school company result bottom bottom  \n",
            "ClearML Monitor: GPU monitoring failed getting GPU reading, switching off GPU monitoring\n"
          ]
        }
      ]
    }
  ]
}