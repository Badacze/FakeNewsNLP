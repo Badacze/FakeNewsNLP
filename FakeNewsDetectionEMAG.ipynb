{
  "nbformat": 4,
  "nbformat_minor": 0,
  "metadata": {
    "colab": {
      "provenance": []
    },
    "kernelspec": {
      "name": "python3",
      "display_name": "Python 3"
    },
    "language_info": {
      "name": "python"
    }
  },
  "cells": [
    {
      "cell_type": "markdown",
      "source": [
        "# Pobieranie danych\n"
      ],
      "metadata": {
        "id": "7SrKwbnCHy_v"
      }
    },
    {
      "cell_type": "code",
      "source": [
        "print(\"Hello World\")"
      ],
      "metadata": {
        "colab": {
          "base_uri": "https://localhost:8080/"
        },
        "id": "Y4LHbSHdH1fT",
        "outputId": "3d3bd035-54e0-4b11-fab3-0f46ea4cc8f5"
      },
      "execution_count": 1,
      "outputs": [
        {
          "output_type": "stream",
          "name": "stdout",
          "text": [
            "Hello World\n"
          ]
        }
      ]
    },
    {
      "cell_type": "code",
      "source": [],
      "metadata": {
        "id": "7HV3uF97ND09"
      },
      "execution_count": null,
      "outputs": []
    }
  ]
}